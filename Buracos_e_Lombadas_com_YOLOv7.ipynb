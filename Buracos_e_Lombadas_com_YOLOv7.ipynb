{
  "cells": [
    {
      "cell_type": "markdown",
      "metadata": {
        "id": "view-in-github",
        "colab_type": "text"
      },
      "source": [
        "<a href=\"https://colab.research.google.com/github/jpscard/Pothole-and-Speed-Bump-Classification-using-Yolov7/blob/main/Buracos_e_Lombadas_com_YOLOv7.ipynb\" target=\"_parent\"><img src=\"https://colab.research.google.com/assets/colab-badge.svg\" alt=\"Open In Colab\"/></a>"
      ]
    },
    {
      "cell_type": "markdown",
      "metadata": {
        "id": "GD9gUQpaBxNa"
      },
      "source": [
        "# How to Train YOLOv7 on a Custom Dataset\n",
        "\n",
        "This tutorial is based on the [YOLOv7 repository](https://github.com/WongKinYiu/yolov7) by WongKinYiu. This notebook shows training on **your own custom objects**. Many thanks to WongKinYiu and AlexeyAB for putting this repository together.\n",
        "\n",
        "\n",
        "### **Accompanying Blog Post**\n",
        "\n",
        "We recommend that you follow along in this notebook while reading the blog post on [how to train YOLOv7](https://blog.roboflow.com/yolov7-custom-dataset-training-tutorial/), concurrently.\n",
        "\n",
        "### **Steps Covered in this Tutorial**\n",
        "\n",
        "To train our detector we take the following steps:\n",
        "\n",
        "* Install YOLOv7 dependencies\n",
        "* Load custom dataset from Roboflow in YOLOv7 format\n",
        "* Run YOLOv7 training\n",
        "* Evaluate YOLOv7 performance\n",
        "* Run YOLOv7 inference on test images\n",
        "* OPTIONAL: Deployment\n",
        "* OPTIONAL: Active Learning\n",
        "\n",
        "\n",
        "### Preparing a Custom Dataset\n",
        "\n",
        "In this tutorial, we will utilize an open source computer vision dataset from one of the 90,000+ available on [Roboflow Universe](https://universe.roboflow.com).\n",
        "\n",
        "If you already have your own images (and, optionally, annotations), you can convert your dataset using [Roboflow](https://roboflow.com), a set of tools developers use to build better computer vision models quickly and accurately. 100k+ developers use roboflow for (automatic) annotation, converting dataset formats (like to YOLOv7), training, deploying, and improving their datasets/models.\n",
        "\n",
        "Follow [the getting started guide here](https://docs.roboflow.com/quick-start) to create and prepare your own custom dataset."
      ]
    },
    {
      "cell_type": "markdown",
      "metadata": {
        "id": "7mGmQbAO5pQb"
      },
      "source": [
        "#Install Dependencies\n",
        "\n",
        "_(Remember to choose GPU in Runtime if not already selected. Runtime --> Change Runtime Type --> Hardware accelerator --> GPU)_"
      ]
    },
    {
      "cell_type": "code",
      "source": [
        "# MONTAR DRIVE (opcional por enquanto, ainda irei ajustar para baixar do meu gdrive, por enquanto anexem manualmente os pesos e pasta de testes)\n",
        "from google.colab import drive\n",
        "drive.mount('/content/drive')"
      ],
      "metadata": {
        "id": "M3IFHHsrRQMU",
        "colab": {
          "base_uri": "https://localhost:8080/"
        },
        "outputId": "3b68c86c-286f-407c-83cb-1201e37b10ce"
      },
      "execution_count": null,
      "outputs": [
        {
          "output_type": "stream",
          "name": "stdout",
          "text": [
            "Mounted at /content/drive\n"
          ]
        }
      ]
    },
    {
      "cell_type": "code",
      "execution_count": null,
      "metadata": {
        "id": "nD-uPyQ_2jiN"
      },
      "outputs": [],
      "source": [
        "# Download YOLOv7 repository and install requirements\n",
        "!git clone https://github.com/WongKinYiu/yolov7\n",
        "%cd yolov7\n",
        "!pip install -r requirements.txt"
      ]
    },
    {
      "cell_type": "markdown",
      "metadata": {
        "id": "mtJ24mPlyF-S"
      },
      "source": [
        "# Download Correctly Formatted Custom Data\n",
        "\n",
        "Next, we'll download our dataset in the right format. Use the `YOLOv7 PyTorch` export. Note that this model requires YOLO TXT annotations, a custom YAML file, and organized directories. The roboflow export writes this for us and saves it in the correct spot.\n"
      ]
    },
    {
      "cell_type": "code",
      "execution_count": null,
      "metadata": {
        "id": "ovKgrVN8ygdW"
      },
      "outputs": [],
      "source": [
        "#Chamando 2 versão do dataset\n",
        "!pip install roboflow\n",
        "\n",
        "from roboflow import Roboflow\n",
        "rf = Roboflow(api_key=\"Gp6ex9KXfnqKTX96ivFP\")\n",
        "project = rf.workspace(\"\").project(\"dataset_buraco_e_lombada\")\n",
        "dataset = project.version(2).download(\"yolov7\")"
      ]
    },
    {
      "cell_type": "markdown",
      "metadata": {
        "id": "bHfT9gEiBsBd"
      },
      "source": [
        "# **Essa etapa usará os pesos treinados com o dataset do autor como um tranfer learning. Podemos ignorar e colocar nosso proprio peso. na etapa a seguir**\n",
        "\n",
        "# Begin Custom Training\n",
        "\n",
        "We're ready to start custom training.\n",
        "\n",
        "NOTE: We will only modify one of the YOLOv7 training defaults in our example: `epochs`. We will adjust from 300 to 100 epochs in our example for speed. If you'd like to change other settings, see details in [our accompanying blog post](https://blog.roboflow.com/yolov7-custom-dataset-training-tutorial/)."
      ]
    },
    {
      "cell_type": "code",
      "source": [
        "# download COCO starting checkpoint\n",
        "%cd /content/yolov7\n",
        "!wget https://github.com/WongKinYiu/yolov7/releases/download/v0.1/yolov7_training.pt"
      ],
      "metadata": {
        "id": "bUbmy674bhpD"
      },
      "execution_count": null,
      "outputs": []
    },
    {
      "cell_type": "markdown",
      "source": [
        "# **Refazer os treinos sobre nossos proprios pesos**"
      ],
      "metadata": {
        "id": "YK7H76nUchqy"
      }
    },
    {
      "cell_type": "code",
      "execution_count": null,
      "metadata": {
        "id": "1iqOPKjr22mL"
      },
      "outputs": [],
      "source": [
        "# run this cell to begin training\n",
        "%cd /content/yolov7\n",
        "!python train.py --batch 16 --epochs 1 --data {dataset.location}/data.yaml --weights '/content/yolov7/runs/train/best.pt' --device 0 \n"
      ]
    },
    {
      "cell_type": "markdown",
      "metadata": {
        "id": "0W0MpUaTCJro"
      },
      "source": [
        "# Evaluation\n",
        "\n",
        "We can evaluate the performance of our custom training using the provided evalution script.\n",
        "\n",
        "Note we can adjust the below custom arguments. For details, see [the arguments accepted by detect.py](https://github.com/WongKinYiu/yolov7/blob/main/detect.py#L154)."
      ]
    },
    {
      "cell_type": "markdown",
      "source": [
        "**Atentar para o caminho correto do nosso melhor peso (best.pt) podemos direcionar o caminho a partir do gdrive, ou fazer o upload manualmente.**\n",
        "\n",
        "**Da mesma forma, direcionar o caminho da pasta de testes, via gdrive ou manualmente. o resize facilita mas não se faz necessário (preciso confirmar essa questão)**"
      ],
      "metadata": {
        "id": "VxTJAT4rEbzo"
      }
    },
    {
      "cell_type": "code",
      "execution_count": null,
      "metadata": {
        "id": "N4cfnLtTCIce"
      },
      "outputs": [],
      "source": [
        "# Run evaluation\n",
        "!python detect.py --weights /content/yolov7/runs/train/best.pt --conf 0.1 --source {dataset.location}/testes #/images\n"
      ]
    },
    {
      "cell_type": "code",
      "execution_count": null,
      "metadata": {
        "id": "6AGhNOSSHY4_"
      },
      "outputs": [],
      "source": [
        "#display inference on ALL test images\n",
        "\n",
        "import glob\n",
        "from IPython.display import Image, display\n",
        "\n",
        "i = 0\n",
        "limit = 10000 # max images to print\n",
        "for imageName in glob.glob('/content/yolov7/runs/detect/exp2/*.jpg'): #assuming JPG\n",
        "    if i < limit:\n",
        "      display(Image(filename=imageName))\n",
        "      print(\"\\n\")\n",
        "    i = i + 1\n",
        "    "
      ]
    },
    {
      "cell_type": "code",
      "source": [],
      "metadata": {
        "id": "CMOfi7eLJCT3"
      },
      "execution_count": null,
      "outputs": []
    },
    {
      "cell_type": "markdown",
      "source": [
        "# Reparameterize for Inference\n",
        "\n",
        "https://github.com/WongKinYiu/yolov7/blob/main/tools/reparameterization.ipynb"
      ],
      "metadata": {
        "id": "aMumI7a2JDAN"
      }
    },
    {
      "cell_type": "markdown",
      "metadata": {
        "id": "4jn4kCtgKiGO"
      },
      "source": [
        "# OPTIONAL: Deployment\n",
        "\n",
        "To deploy, you'll need to export your weights and save them to use later."
      ]
    },
    {
      "cell_type": "code",
      "source": [
        "# optional, zip to download weights and results locally\n",
        "\n",
        "!zip -r export.zip runs/detect\n",
        "!zip -r export.zip runs/train/exp/weights/best.pt\n",
        "!zip export.zip runs/train/exp/*"
      ],
      "metadata": {
        "id": "wWOok8abrCsL",
        "colab": {
          "base_uri": "https://localhost:8080/"
        },
        "outputId": "00cc79f6-8813-4269-8b47-e05138e0fa16"
      },
      "execution_count": null,
      "outputs": [
        {
          "output_type": "stream",
          "name": "stdout",
          "text": [
            "updating: runs/detect/ (stored 0%)\n",
            "updating: runs/detect/exp/ (stored 0%)\n",
            "updating: runs/detect/exp/img-394_jpg.rf.838e7cc63bc43ebe385cc2ab2df05b3a.jpg (deflated 4%)\n",
            "updating: runs/detect/exp/67_jpg.rf.25a034582cccd1460620b92c1432fce6.jpg (deflated 5%)\n",
            "updating: runs/detect/exp/96_jpg.rf.1779d99a35ff35c5e55c4bb93089392a.jpg (deflated 4%)\n",
            "updating: runs/detect/exp/img-430_jpg.rf.49be02ca95ff5eb08bfa953fd9b66c46.jpg (deflated 4%)\n",
            "updating: runs/detect/exp/img-179_jpg.rf.f5d54c7459a4aab0a68be0836d642836.jpg (deflated 5%)\n",
            "updating: runs/detect/exp/img-65_jpg.rf.3b8bb6ef8c7a66b715fdb5ea242231d8.jpg (deflated 4%)\n",
            "updating: runs/detect/exp/img-344_jpg.rf.2d4a50ca96ed913d3f8d593c57a26bbd.jpg (deflated 3%)\n",
            "updating: runs/detect/exp/img-42_jpg.rf.aa335ef2240825298e990d043a4f6586.jpg (deflated 5%)\n",
            "updating: runs/detect/exp/img-334_jpg.rf.e3b82eec92fc246cbc645c8e2eb047ab.jpg (deflated 4%)\n",
            "updating: runs/detect/exp/img-410_jpg.rf.94e9063b13ec3b7176fb117e8322c6dd.jpg (deflated 4%)\n",
            "updating: runs/detect/exp/img-390_jpg.rf.fb463bf0a17f65c84d4427b624410ab2.jpg (deflated 5%)\n",
            "updating: runs/detect/exp/img-300_jpg.rf.5ec76336058955dbc19513c5177cc74e.jpg (deflated 4%)\n",
            "updating: runs/detect/exp/img-461_jpg.rf.88cd1feab2c5263bde8c587d2c8f0b70.jpg (deflated 4%)\n",
            "updating: runs/detect/exp/img-536_jpg.rf.ceb554b0c7d1cd105814c0cae7d5e375.jpg (deflated 4%)\n",
            "updating: runs/detect/exp/img-196_jpg.rf.2722998ee8a57d361483c8dba7ae8ce0.jpg (deflated 6%)\n",
            "updating: runs/detect/exp/img-364_jpg.rf.432fda1e5247b37dce69126aebf43ac0.jpg (deflated 4%)\n",
            "updating: runs/detect/exp/img-282_jpg.rf.828bc68ce3563dbee13c56419e207165.jpg (deflated 4%)\n",
            "updating: runs/detect/exp/img-576_jpg.rf.309afc875d7b4c91053a39d1ae0c194d.jpg (deflated 4%)\n",
            "updating: runs/detect/exp/img-415_jpg.rf.604a76c43e7cea58bb2ab76a8cd97be2.jpg (deflated 6%)\n",
            "updating: runs/detect/exp/img-371_jpg.rf.ed1304b86ab3ff6096343e328c44fd6d.jpg (deflated 4%)\n",
            "updating: runs/detect/exp/9_jpg.rf.914db325189576962b3016908eeff947.jpg (deflated 4%)\n",
            "updating: runs/detect/exp/87_jpg.rf.d9a917da0214195157c313eb799efdde.jpg (deflated 4%)\n",
            "updating: runs/detect/exp/img-98_jpg.rf.1225539bb968d2a7d8da4bc45ca2309e.jpg (deflated 5%)\n",
            "updating: runs/detect/exp/img-398_jpg.rf.94dca751da799ee220d24c12d7164ab7.jpg (deflated 6%)\n",
            "updating: runs/detect/exp/23_jpg.rf.701b0beb38359d6158011e60d7e549fc.jpg (deflated 4%)\n",
            "updating: runs/detect/exp/img-362_jpg.rf.e96f34995eea8140985e8e78fffc7fdf.jpg (deflated 5%)\n",
            "updating: runs/detect/exp/45_jpg.rf.45340cf75726f7c79e2e9a20493a4a9d.jpg (deflated 4%)\n",
            "updating: runs/detect/exp/img-23_jpg.rf.5466e33ff4c8c25dee7c3ebbb1b81121.jpg (deflated 5%)\n",
            "updating: runs/detect/exp/img-146_jpg.rf.3dc693f49128b20decfe57e7fe552e52.jpg (deflated 4%)\n",
            "updating: runs/detect/exp/img-472_jpg.rf.7f190f71a63563d53aa17314693c644d.jpg (deflated 5%)\n",
            "updating: runs/detect/exp/img-43_jpg.rf.76c139b567f4c0513392362d191c9a1e.jpg (deflated 5%)\n",
            "updating: runs/detect/exp/img-105_jpg.rf.c69b90b5dcf0ec95d7c8ce6061370fd8.jpg (deflated 5%)\n",
            "updating: runs/detect/exp/img-36_jpg.rf.4c73014b4a2ddd4209624785a3bf6156.jpg (deflated 5%)\n",
            "updating: runs/detect/exp/img-525_jpg.rf.2456945f24ee088148dd0e4b3c1f1dc3.jpg (deflated 4%)\n",
            "updating: runs/detect/exp/img-440_jpg.rf.44b983cc490d851e8c153da531831c67.jpg (deflated 5%)\n",
            "updating: runs/detect/exp/img-294_jpg.rf.90927ef8f04e5a67fe1e157f8af26350.jpg (deflated 4%)\n",
            "updating: runs/detect/exp/img-107_jpg.rf.ee102221b5d4024c0fbdc25fbe773536.jpg (deflated 6%)\n",
            "updating: runs/detect/exp/57_jpg.rf.f6a996a049c1c93653cbd398a0de7d7d.jpg (deflated 4%)\n",
            "updating: runs/detect/exp/14_jpg.rf.31d0924e47c3cbf2f8705e97bea7e6c8.jpg (deflated 4%)\n",
            "updating: runs/detect/exp/img-217_jpg.rf.0eaa3b6617ebebd2f15ab59ad696303e.jpg (deflated 5%)\n",
            "updating: runs/detect/exp/img-72_jpg.rf.3d7b2c2e0ecfbac4ed241f1b1fe8842a.jpg (deflated 5%)\n",
            "updating: runs/detect/exp/img-370_jpg.rf.23ab94d6b5c5111c0ac573f460add8e1.jpg (deflated 4%)\n",
            "updating: runs/detect/exp/img-307_jpg.rf.f3a210e7c5a606dbe7b25a65e4236b14.jpg (deflated 6%)\n",
            "updating: runs/detect/exp/img-590_jpg.rf.9e3afea342d6f55b76ca842032538036.jpg (deflated 4%)\n",
            "updating: runs/detect/exp/img-245_jpg.rf.3771e34499bd691fc5368c708661fa54.jpg (deflated 5%)\n",
            "updating: runs/detect/exp/img-520_jpg.rf.d46cc9ce2dde1f92576ddb36d2942da1.jpg (deflated 6%)\n",
            "updating: runs/detect/exp/img-195_jpg.rf.0b84884de86e50a6636fab92494e5058.jpg (deflated 4%)\n",
            "updating: runs/detect/exp/img-452_jpg.rf.7ad4c561178cdd27a98840b1df5e1fab.jpg (deflated 5%)\n",
            "updating: runs/detect/exp/img-621_jpg.rf.5686b01245fdb1d415d3ea92d4a19e74.jpg (deflated 3%)\n",
            "updating: runs/detect/exp/img-161_jpg.rf.af4945427ffad775bc0e9091f11de583.jpg (deflated 5%)\n",
            "updating: runs/detect/exp/img-308_jpg.rf.deb2cbd083af4361e32420bd848fac0a.jpg (deflated 6%)\n",
            "updating: runs/detect/exp/img-463_jpg.rf.6ae91b3795aa5d50982d228531da9691.jpg (deflated 4%)\n",
            "updating: runs/detect/exp/img-449_jpg.rf.9c633c8273d3b0c7e6af3c5cf6e0366e.jpg (deflated 5%)\n",
            "updating: runs/detect/exp/img-82_jpg.rf.3c41edf2d63509f27d2cc79539fa37fd.jpg (deflated 4%)\n",
            "updating: runs/detect/exp/img-264_jpg.rf.5ccf629b2c9d0e4d68f065f6a00ef553.jpg (deflated 4%)\n",
            "updating: runs/detect/exp/img-434_jpg.rf.7a821afbcc36e6bcb8817b4f1085ce7c.jpg (deflated 5%)\n",
            "updating: runs/detect/exp/img-168_jpg.rf.534d7ec76413c51917b2ec47da265cdf.jpg (deflated 5%)\n",
            "updating: runs/detect/exp/img-486_jpg.rf.8bf6a057860fa3444dfc56a11ba26d41.jpg (deflated 4%)\n",
            "updating: runs/detect/exp/img-337_jpg.rf.a80dac0e786650daac1991c4c58509b9.jpg (deflated 4%)\n",
            "updating: runs/detect/exp/img-350_jpg.rf.c6a04138dff115108f419b709ffc2662.jpg (deflated 4%)\n",
            "updating: runs/detect/exp/img-276_jpg.rf.3e6e3c2c759468483d1211c24b30f69c.jpg (deflated 4%)\n",
            "updating: runs/detect/exp/img-477_jpg.rf.6221ddf86798364e5e6d0ff59248a639.jpg (deflated 6%)\n",
            "updating: runs/detect/exp/img-631_jpg.rf.2349e1c261da0e52144c56476d3cd886.jpg (deflated 4%)\n",
            "updating: runs/detect/exp/img-238_jpg.rf.1d76d6a12d4997668da79c06a868f091.jpg (deflated 5%)\n",
            "updating: runs/detect/exp/img-44_jpg.rf.37cde02b2e33c93483e76dd019bc9e1b.jpg (deflated 5%)\n",
            "updating: runs/detect/exp/img-336_jpg.rf.e6445e86663b5cab4aa19a5ca8257c2c.jpg (deflated 5%)\n",
            "updating: runs/detect/exp/img-634_jpg.rf.c309f0219688dd80db1e085b98ac389d.jpg (deflated 6%)\n",
            "updating: runs/detect/exp/img-588_jpg.rf.05029f9fbee2e8630552934b3baf758b.jpg (deflated 3%)\n",
            "updating: runs/detect/exp/img-343_jpg.rf.72d6cb3e27014656d4d06272b5df6e47.jpg (deflated 6%)\n",
            "updating: runs/detect/exp/img-47_jpg.rf.7ce2c0668ed916ee12126ee375ae2217.jpg (deflated 6%)\n",
            "updating: runs/detect/exp/img-501_jpg.rf.c637f3c0a8fe4c8f6cd084a18a4ea000.jpg (deflated 5%)\n",
            "updating: runs/detect/exp/img-269_jpg.rf.58aeb34536e1566ae902a30230ab78c7.jpg (deflated 5%)\n",
            "updating: runs/detect/exp/42_jpg.rf.649b2a6690ae1e561f74dc0b101bbc0d.jpg (deflated 4%)\n",
            "updating: runs/detect/exp/61_jpg.rf.06fa5abfbff479d615b7580069f3b093.jpg (deflated 4%)\n",
            "updating: runs/detect/exp/34_jpg.rf.8fee46246cb9d8525bad3c5ec97ea397.jpg (deflated 4%)\n",
            "updating: runs/detect/exp/img-79_jpg.rf.f2d73a66b8c373badf92cc4134680656.jpg (deflated 6%)\n",
            "updating: runs/detect/exp/83_jpg.rf.0a2206ba29086d2334b1a8757b698c6b.jpg (deflated 4%)\n",
            "updating: runs/detect/exp/img-68_jpg.rf.620bec72377332b222e81d7dedb57365.jpg (deflated 4%)\n",
            "updating: runs/detect/exp/img-397_jpg.rf.96506e51885ed0752f0f87e884ec1329.jpg (deflated 5%)\n",
            "  adding: runs/detect/exp2/ (stored 0%)\n",
            "  adding: runs/detect/exp2/img-394_jpg.rf.838e7cc63bc43ebe385cc2ab2df05b3a.jpg (deflated 4%)\n",
            "  adding: runs/detect/exp2/67_jpg.rf.25a034582cccd1460620b92c1432fce6.jpg (deflated 5%)\n",
            "  adding: runs/detect/exp2/96_jpg.rf.1779d99a35ff35c5e55c4bb93089392a.jpg (deflated 4%)\n",
            "  adding: runs/detect/exp2/img-430_jpg.rf.49be02ca95ff5eb08bfa953fd9b66c46.jpg (deflated 4%)\n",
            "  adding: runs/detect/exp2/img-179_jpg.rf.f5d54c7459a4aab0a68be0836d642836.jpg (deflated 5%)\n",
            "  adding: runs/detect/exp2/img-65_jpg.rf.3b8bb6ef8c7a66b715fdb5ea242231d8.jpg (deflated 4%)\n",
            "  adding: runs/detect/exp2/img-344_jpg.rf.2d4a50ca96ed913d3f8d593c57a26bbd.jpg (deflated 3%)\n",
            "  adding: runs/detect/exp2/img-42_jpg.rf.aa335ef2240825298e990d043a4f6586.jpg (deflated 5%)\n",
            "  adding: runs/detect/exp2/img-334_jpg.rf.e3b82eec92fc246cbc645c8e2eb047ab.jpg (deflated 4%)\n",
            "  adding: runs/detect/exp2/img-410_jpg.rf.94e9063b13ec3b7176fb117e8322c6dd.jpg (deflated 4%)\n",
            "  adding: runs/detect/exp2/img-390_jpg.rf.fb463bf0a17f65c84d4427b624410ab2.jpg (deflated 5%)\n",
            "  adding: runs/detect/exp2/img-300_jpg.rf.5ec76336058955dbc19513c5177cc74e.jpg (deflated 4%)\n",
            "  adding: runs/detect/exp2/img-461_jpg.rf.88cd1feab2c5263bde8c587d2c8f0b70.jpg (deflated 4%)\n",
            "  adding: runs/detect/exp2/img-536_jpg.rf.ceb554b0c7d1cd105814c0cae7d5e375.jpg (deflated 4%)\n",
            "  adding: runs/detect/exp2/img-196_jpg.rf.2722998ee8a57d361483c8dba7ae8ce0.jpg (deflated 6%)\n",
            "  adding: runs/detect/exp2/img-364_jpg.rf.432fda1e5247b37dce69126aebf43ac0.jpg (deflated 4%)\n",
            "  adding: runs/detect/exp2/img-282_jpg.rf.828bc68ce3563dbee13c56419e207165.jpg (deflated 4%)\n",
            "  adding: runs/detect/exp2/img-576_jpg.rf.309afc875d7b4c91053a39d1ae0c194d.jpg (deflated 4%)\n",
            "  adding: runs/detect/exp2/img-415_jpg.rf.604a76c43e7cea58bb2ab76a8cd97be2.jpg (deflated 6%)\n",
            "  adding: runs/detect/exp2/img-371_jpg.rf.ed1304b86ab3ff6096343e328c44fd6d.jpg (deflated 5%)\n",
            "  adding: runs/detect/exp2/9_jpg.rf.914db325189576962b3016908eeff947.jpg (deflated 4%)\n",
            "  adding: runs/detect/exp2/87_jpg.rf.d9a917da0214195157c313eb799efdde.jpg (deflated 4%)\n",
            "  adding: runs/detect/exp2/img-98_jpg.rf.1225539bb968d2a7d8da4bc45ca2309e.jpg (deflated 5%)\n",
            "  adding: runs/detect/exp2/img-398_jpg.rf.94dca751da799ee220d24c12d7164ab7.jpg (deflated 5%)\n",
            "  adding: runs/detect/exp2/23_jpg.rf.701b0beb38359d6158011e60d7e549fc.jpg (deflated 4%)\n",
            "  adding: runs/detect/exp2/img-362_jpg.rf.e96f34995eea8140985e8e78fffc7fdf.jpg (deflated 5%)\n",
            "  adding: runs/detect/exp2/45_jpg.rf.45340cf75726f7c79e2e9a20493a4a9d.jpg (deflated 4%)\n",
            "  adding: runs/detect/exp2/img-23_jpg.rf.5466e33ff4c8c25dee7c3ebbb1b81121.jpg (deflated 5%)\n",
            "  adding: runs/detect/exp2/img-146_jpg.rf.3dc693f49128b20decfe57e7fe552e52.jpg (deflated 4%)\n",
            "  adding: runs/detect/exp2/img-472_jpg.rf.7f190f71a63563d53aa17314693c644d.jpg (deflated 5%)\n",
            "  adding: runs/detect/exp2/img-43_jpg.rf.76c139b567f4c0513392362d191c9a1e.jpg (deflated 5%)\n",
            "  adding: runs/detect/exp2/img-105_jpg.rf.c69b90b5dcf0ec95d7c8ce6061370fd8.jpg (deflated 5%)\n",
            "  adding: runs/detect/exp2/img-36_jpg.rf.4c73014b4a2ddd4209624785a3bf6156.jpg (deflated 5%)\n",
            "  adding: runs/detect/exp2/img-525_jpg.rf.2456945f24ee088148dd0e4b3c1f1dc3.jpg (deflated 4%)\n",
            "  adding: runs/detect/exp2/img-440_jpg.rf.44b983cc490d851e8c153da531831c67.jpg (deflated 5%)\n",
            "  adding: runs/detect/exp2/img-294_jpg.rf.90927ef8f04e5a67fe1e157f8af26350.jpg (deflated 4%)\n",
            "  adding: runs/detect/exp2/img-107_jpg.rf.ee102221b5d4024c0fbdc25fbe773536.jpg (deflated 5%)\n",
            "  adding: runs/detect/exp2/57_jpg.rf.f6a996a049c1c93653cbd398a0de7d7d.jpg (deflated 4%)\n",
            "  adding: runs/detect/exp2/14_jpg.rf.31d0924e47c3cbf2f8705e97bea7e6c8.jpg (deflated 4%)\n",
            "  adding: runs/detect/exp2/img-217_jpg.rf.0eaa3b6617ebebd2f15ab59ad696303e.jpg (deflated 5%)\n",
            "  adding: runs/detect/exp2/img-72_jpg.rf.3d7b2c2e0ecfbac4ed241f1b1fe8842a.jpg (deflated 5%)\n",
            "  adding: runs/detect/exp2/img-370_jpg.rf.23ab94d6b5c5111c0ac573f460add8e1.jpg (deflated 4%)\n",
            "  adding: runs/detect/exp2/img-307_jpg.rf.f3a210e7c5a606dbe7b25a65e4236b14.jpg (deflated 6%)\n",
            "  adding: runs/detect/exp2/img-590_jpg.rf.9e3afea342d6f55b76ca842032538036.jpg (deflated 4%)\n",
            "  adding: runs/detect/exp2/img-245_jpg.rf.3771e34499bd691fc5368c708661fa54.jpg (deflated 4%)\n",
            "  adding: runs/detect/exp2/img-520_jpg.rf.d46cc9ce2dde1f92576ddb36d2942da1.jpg (deflated 6%)\n",
            "  adding: runs/detect/exp2/img-195_jpg.rf.0b84884de86e50a6636fab92494e5058.jpg (deflated 4%)\n",
            "  adding: runs/detect/exp2/img-452_jpg.rf.7ad4c561178cdd27a98840b1df5e1fab.jpg (deflated 5%)\n",
            "  adding: runs/detect/exp2/img-621_jpg.rf.5686b01245fdb1d415d3ea92d4a19e74.jpg (deflated 3%)\n",
            "  adding: runs/detect/exp2/img-161_jpg.rf.af4945427ffad775bc0e9091f11de583.jpg (deflated 5%)\n",
            "  adding: runs/detect/exp2/img-308_jpg.rf.deb2cbd083af4361e32420bd848fac0a.jpg (deflated 5%)\n",
            "  adding: runs/detect/exp2/img-463_jpg.rf.6ae91b3795aa5d50982d228531da9691.jpg (deflated 4%)\n",
            "  adding: runs/detect/exp2/img-449_jpg.rf.9c633c8273d3b0c7e6af3c5cf6e0366e.jpg (deflated 5%)\n",
            "  adding: runs/detect/exp2/img-82_jpg.rf.3c41edf2d63509f27d2cc79539fa37fd.jpg (deflated 4%)\n",
            "  adding: runs/detect/exp2/img-264_jpg.rf.5ccf629b2c9d0e4d68f065f6a00ef553.jpg (deflated 4%)\n",
            "  adding: runs/detect/exp2/img-434_jpg.rf.7a821afbcc36e6bcb8817b4f1085ce7c.jpg (deflated 5%)\n",
            "  adding: runs/detect/exp2/img-168_jpg.rf.534d7ec76413c51917b2ec47da265cdf.jpg (deflated 5%)\n",
            "  adding: runs/detect/exp2/img-486_jpg.rf.8bf6a057860fa3444dfc56a11ba26d41.jpg (deflated 4%)\n",
            "  adding: runs/detect/exp2/img-337_jpg.rf.a80dac0e786650daac1991c4c58509b9.jpg (deflated 4%)\n",
            "  adding: runs/detect/exp2/img-350_jpg.rf.c6a04138dff115108f419b709ffc2662.jpg (deflated 4%)\n",
            "  adding: runs/detect/exp2/img-276_jpg.rf.3e6e3c2c759468483d1211c24b30f69c.jpg (deflated 4%)\n",
            "  adding: runs/detect/exp2/img-477_jpg.rf.6221ddf86798364e5e6d0ff59248a639.jpg (deflated 6%)\n",
            "  adding: runs/detect/exp2/img-631_jpg.rf.2349e1c261da0e52144c56476d3cd886.jpg (deflated 4%)\n",
            "  adding: runs/detect/exp2/img-238_jpg.rf.1d76d6a12d4997668da79c06a868f091.jpg (deflated 4%)\n",
            "  adding: runs/detect/exp2/img-44_jpg.rf.37cde02b2e33c93483e76dd019bc9e1b.jpg (deflated 5%)\n",
            "  adding: runs/detect/exp2/img-336_jpg.rf.e6445e86663b5cab4aa19a5ca8257c2c.jpg (deflated 5%)\n",
            "  adding: runs/detect/exp2/img-634_jpg.rf.c309f0219688dd80db1e085b98ac389d.jpg (deflated 6%)\n",
            "  adding: runs/detect/exp2/img-588_jpg.rf.05029f9fbee2e8630552934b3baf758b.jpg (deflated 3%)\n",
            "  adding: runs/detect/exp2/img-343_jpg.rf.72d6cb3e27014656d4d06272b5df6e47.jpg (deflated 6%)\n",
            "  adding: runs/detect/exp2/img-47_jpg.rf.7ce2c0668ed916ee12126ee375ae2217.jpg (deflated 6%)\n",
            "  adding: runs/detect/exp2/img-501_jpg.rf.c637f3c0a8fe4c8f6cd084a18a4ea000.jpg (deflated 5%)\n",
            "  adding: runs/detect/exp2/img-269_jpg.rf.58aeb34536e1566ae902a30230ab78c7.jpg (deflated 5%)\n",
            "  adding: runs/detect/exp2/42_jpg.rf.649b2a6690ae1e561f74dc0b101bbc0d.jpg (deflated 4%)\n",
            "  adding: runs/detect/exp2/61_jpg.rf.06fa5abfbff479d615b7580069f3b093.jpg (deflated 4%)\n",
            "  adding: runs/detect/exp2/34_jpg.rf.8fee46246cb9d8525bad3c5ec97ea397.jpg (deflated 4%)\n",
            "  adding: runs/detect/exp2/img-79_jpg.rf.f2d73a66b8c373badf92cc4134680656.jpg (deflated 6%)\n",
            "  adding: runs/detect/exp2/83_jpg.rf.0a2206ba29086d2334b1a8757b698c6b.jpg (deflated 4%)\n",
            "  adding: runs/detect/exp2/img-68_jpg.rf.620bec72377332b222e81d7dedb57365.jpg (deflated 5%)\n",
            "  adding: runs/detect/exp2/img-397_jpg.rf.96506e51885ed0752f0f87e884ec1329.jpg (deflated 5%)\n",
            "updating: runs/train/exp/weights/best.pt (deflated 7%)\n",
            "updating: runs/train/exp/events.out.tfevents.1666980329.1983b39e233f.206.0 (deflated 52%)\n",
            "updating: runs/train/exp/hyp.yaml (deflated 44%)\n",
            "updating: runs/train/exp/opt.yaml (deflated 46%)\n",
            "updating: runs/train/exp/results.txt (deflated 62%)\n",
            "updating: runs/train/exp/train_batch0.jpg (deflated 2%)\n",
            "updating: runs/train/exp/train_batch1.jpg (deflated 2%)\n",
            "updating: runs/train/exp/train_batch2.jpg (deflated 3%)\n",
            "updating: runs/train/exp/train_batch3.jpg (deflated 2%)\n",
            "updating: runs/train/exp/train_batch4.jpg (deflated 2%)\n",
            "updating: runs/train/exp/train_batch5.jpg (deflated 4%)\n",
            "updating: runs/train/exp/train_batch6.jpg (deflated 4%)\n",
            "updating: runs/train/exp/train_batch7.jpg (deflated 4%)\n",
            "updating: runs/train/exp/train_batch8.jpg (deflated 4%)\n",
            "updating: runs/train/exp/train_batch9.jpg (deflated 3%)\n",
            "updating: runs/train/exp/weights/ (stored 0%)\n"
          ]
        }
      ]
    },
    {
      "cell_type": "markdown",
      "metadata": {
        "id": "f41PvE5gKhYw"
      },
      "source": [
        "# OPTIONAL: Active Learning Example\n",
        "\n",
        "Once our first training run is complete, we should use our model to help identify which images are most problematic in order to investigate, annotate, and improve our dataset (and, therefore, model).\n",
        "\n",
        "To do that, we can execute code that automatically uploads images back to our hosted dataset if the image is a specific class or below a given confidence threshold.\n"
      ]
    },
    {
      "cell_type": "code",
      "execution_count": null,
      "metadata": {
        "id": "mcINqQS7Kt3-"
      },
      "outputs": [],
      "source": [
        "# # setup access to your workspace\n",
        "# rf = Roboflow(api_key=\"YOUR_API_KEY\")                               # used above to load data\n",
        "# inference_project =  rf.workspace().project(\"YOUR_PROJECT_NAME\")    # used above to load data\n",
        "# model = inference_project.version(1).model\n",
        "\n",
        "# upload_project = rf.workspace().project(\"YOUR_PROJECT_NAME\")\n",
        "\n",
        "# print(\"inference reference point: \", inference_project)\n",
        "# print(\"upload destination: \", upload_project)"
      ]
    },
    {
      "cell_type": "code",
      "execution_count": null,
      "metadata": {
        "id": "cEl1NVE3LSD_"
      },
      "outputs": [],
      "source": [
        "# # example upload: if prediction is below a given confidence threshold, upload it \n",
        "\n",
        "# confidence_interval = [10,70]                                   # [lower_bound_percent, upper_bound_percent]\n",
        "\n",
        "# for prediction in predictions:                                  # predictions list to loop through\n",
        "#   if(prediction['confidence'] * 100 >= confidence_interval[0] and \n",
        "#           prediction['confidence'] * 100 <= confidence_interval[1]):\n",
        "        \n",
        "#           # upload on success!\n",
        "#           print(' >> image uploaded!')\n",
        "#           upload_project.upload(image, num_retry_uploads=3)     # upload image in question"
      ]
    },
    {
      "cell_type": "markdown",
      "metadata": {
        "id": "LVpCFeU-K4gb"
      },
      "source": [
        "# Next steps\n",
        "\n",
        "Congratulations, you've trained a custom YOLOv7 model! Next, start thinking about deploying and [building an MLOps pipeline](https://docs.roboflow.com) so your model gets better the more data it sees in the wild."
      ]
    }
  ],
  "metadata": {
    "accelerator": "GPU",
    "colab": {
      "collapsed_sections": [],
      "provenance": [],
      "toc_visible": true,
      "include_colab_link": true
    },
    "kernelspec": {
      "display_name": "Python 3",
      "name": "python3"
    },
    "gpuClass": "standard"
  },
  "nbformat": 4,
  "nbformat_minor": 0
}